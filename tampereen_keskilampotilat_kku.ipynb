{
 "cells": [
  {
   "cell_type": "markdown",
   "id": "spare-customs",
   "metadata": {},
   "source": [
    "# Tampereen keskilämpötilat"
   ]
  },
  {
   "cell_type": "markdown",
   "id": "effective-solid",
   "metadata": {},
   "source": [
    "Tuodaan tarvittavat kirjastot ja Tampereen keskilämpötilojen data."
   ]
  },
  {
   "cell_type": "code",
   "execution_count": 1,
   "id": "legal-croatia",
   "metadata": {},
   "outputs": [],
   "source": [
    "import pandas as pd\n",
    "import matplotlib.pyplot as plt"
   ]
  },
  {
   "cell_type": "code",
   "execution_count": 2,
   "id": "egyptian-french",
   "metadata": {},
   "outputs": [
    {
     "data": {
      "text/html": [
       "<div>\n",
       "<style scoped>\n",
       "    .dataframe tbody tr th:only-of-type {\n",
       "        vertical-align: middle;\n",
       "    }\n",
       "\n",
       "    .dataframe tbody tr th {\n",
       "        vertical-align: top;\n",
       "    }\n",
       "\n",
       "    .dataframe thead th {\n",
       "        text-align: right;\n",
       "    }\n",
       "</style>\n",
       "<table border=\"1\" class=\"dataframe\">\n",
       "  <thead>\n",
       "    <tr style=\"text-align: right;\">\n",
       "      <th></th>\n",
       "      <th>Vuosi</th>\n",
       "      <th>Kk</th>\n",
       "      <th>Keskilämpötila (degC)</th>\n",
       "    </tr>\n",
       "  </thead>\n",
       "  <tbody>\n",
       "    <tr>\n",
       "      <th>0</th>\n",
       "      <td>2020</td>\n",
       "      <td>1</td>\n",
       "      <td>0.9</td>\n",
       "    </tr>\n",
       "    <tr>\n",
       "      <th>1</th>\n",
       "      <td>2020</td>\n",
       "      <td>2</td>\n",
       "      <td>-0.9</td>\n",
       "    </tr>\n",
       "    <tr>\n",
       "      <th>2</th>\n",
       "      <td>2020</td>\n",
       "      <td>3</td>\n",
       "      <td>0.7</td>\n",
       "    </tr>\n",
       "    <tr>\n",
       "      <th>3</th>\n",
       "      <td>2020</td>\n",
       "      <td>4</td>\n",
       "      <td>3.4</td>\n",
       "    </tr>\n",
       "    <tr>\n",
       "      <th>4</th>\n",
       "      <td>2020</td>\n",
       "      <td>5</td>\n",
       "      <td>8.5</td>\n",
       "    </tr>\n",
       "  </tbody>\n",
       "</table>\n",
       "</div>"
      ],
      "text/plain": [
       "   Vuosi  Kk  Keskilämpötila (degC)\n",
       "0   2020   1                    0.9\n",
       "1   2020   2                   -0.9\n",
       "2   2020   3                    0.7\n",
       "3   2020   4                    3.4\n",
       "4   2020   5                    8.5"
      ]
     },
     "execution_count": 2,
     "metadata": {},
     "output_type": "execute_result"
    }
   ],
   "source": [
    "data = pd.read_csv(\"keskilampotila2020_Tampere.csv\")\n",
    "data.head()"
   ]
  },
  {
   "cell_type": "markdown",
   "id": "ordered-poultry",
   "metadata": {},
   "source": [
    "Otetaan datasta erilleen tiedot kuukausista ja lämpötiloista niiden piirtämistä varten."
   ]
  },
  {
   "cell_type": "code",
   "execution_count": 3,
   "id": "wanted-tampa",
   "metadata": {},
   "outputs": [
    {
     "data": {
      "text/plain": [
       "0    0.9\n",
       "1   -0.9\n",
       "2    0.7\n",
       "3    3.4\n",
       "4    8.5\n",
       "Name: Keskilämpötila (degC), dtype: float64"
      ]
     },
     "execution_count": 3,
     "metadata": {},
     "output_type": "execute_result"
    }
   ],
   "source": [
    "kuukaudet = data['Kk']\n",
    "lämpötilat = data['Keskilämpötila (degC)']\n",
    "lämpötilat.head()"
   ]
  },
  {
   "cell_type": "markdown",
   "id": "convinced-raleigh",
   "metadata": {},
   "source": [
    "Visualisoidaan Tampereen keskilämpötilat vuonna 2020."
   ]
  },
  {
   "cell_type": "code",
   "execution_count": 8,
   "id": "patient-female",
   "metadata": {},
   "outputs": [
    {
     "data": {
      "image/png": "[encoded data removed]",
      "text/plain": [
       "<Figure size 432x288 with 1 Axes>"
      ]
     },
     "metadata": {
      "needs_background": "light"
     },
     "output_type": "display_data"
    }
   ],
   "source": [
    "plt.plot(kuukaudet, lämpötilat, 'b-', marker='x')\n",
    "plt.xlabel('Kuukausi')\n",
    "plt.ylabel('Lämpötila (degC)')\n",
    "labels = ['Tammikuu','Helmikuu','Maaliskuu','Huhtikuu','Toukokuu','Kesäkuu','Heinäkuu','Elokuu','Syyskuu','Lokakuu','Marraskuu','Joulukuu']\n",
    "plt.xticks(range(1,13), labels, rotation=60)\n",
    "plt.grid()\n",
    "plt.title('Keskilämpötilat Tampereella 2020')\n",
    "plt.show()"
   ]
  },
  {
   "cell_type": "code",
   "execution_count": null,
   "id": "exterior-shell",
   "metadata": {},
   "outputs": [],
   "source": []
  }
 ],
 "metadata": {
  "kernelspec": {
   "display_name": "Python 3",
   "language": "python",
   "name": "python3"
  },
  "language_info": {
   "codemirror_mode": {
    "name": "ipython",
    "version": 3
   },
   "file_extension": ".py",
   "mimetype": "text/x-python",
   "name": "python",
   "nbconvert_exporter": "python",
   "pygments_lexer": "ipython3",
   "version": "3.7.10"
  }
 },
 "nbformat": 4,
 "nbformat_minor": 5
}
